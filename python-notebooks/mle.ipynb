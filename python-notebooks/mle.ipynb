{
 "cells": [
  {
   "cell_type": "markdown",
   "id": "79f58951-2462-4164-bcd8-1d7a91cefd17",
   "metadata": {},
   "source": [
    "#### References\n",
    "1. https://github.com/mhw32/variational-item-response-theory-public"
   ]
  },
  {
   "cell_type": "code",
   "execution_count": 1,
   "id": "ac2159a4-040f-4a74-b47e-e6ffb9054d41",
   "metadata": {},
   "outputs": [
    {
     "data": {
      "text/plain": [
       "True"
      ]
     },
     "execution_count": 1,
     "metadata": {},
     "output_type": "execute_result"
    }
   ],
   "source": [
    "import os\n",
    "import pandas as pd\n",
    "import numpy as np\n",
    "from enum import Enum\n",
    "import torch\n",
    "from tqdm import tqdm\n",
    "from torch import nn\n",
    "from torch.nn import functional as F, init\n",
    "from torch import optim\n",
    "import torch.distributions as dist\n",
    "import time\n",
    "import shutil\n",
    "\n",
    "from sklearn.metrics import confusion_matrix, ConfusionMatrixDisplay, accuracy_score\n",
    "\n",
    "torch.cuda.is_available()"
   ]
  },
  {
   "cell_type": "code",
   "execution_count": 2,
   "id": "906a6e98-9fb4-4ca0-95f3-4eebf4302df1",
   "metadata": {},
   "outputs": [],
   "source": [
    "ROOT_DIR = os.path.realpath('./')\n",
    "DATA_DIR = os.path.join(ROOT_DIR, 'data')\n",
    "EDNET_KT1_DIR = os.path.join(DATA_DIR, 'ednet_kt1')\n",
    "OUT_DIR = os.path.join(ROOT_DIR, 'out')"
   ]
  },
  {
   "cell_type": "code",
   "execution_count": 3,
   "id": "3b760dd0-ef68-4c3a-a64c-10d28e414a42",
   "metadata": {},
   "outputs": [],
   "source": [
    "MISSING_DATA = -1"
   ]
  },
  {
   "cell_type": "markdown",
   "id": "e0e71ec9-90a5-4072-99e6-d2fff3ab5314",
   "metadata": {},
   "source": [
    "# Data Exploration"
   ]
  },
  {
   "cell_type": "code",
   "execution_count": 4,
   "id": "6cc70cef",
   "metadata": {},
   "outputs": [
    {
     "name": "stderr",
     "output_type": "stream",
     "text": [
      "/home/lenar/miniconda3/envs/cs5228/lib/python3.7/site-packages/ipykernel_launcher.py:19: DtypeWarning: Columns (10) have mixed types.Specify dtype option on import or set low_memory=False.\n"
     ]
    },
    {
     "data": {
      "text/html": [
       "<div>\n",
       "<style scoped>\n",
       "    .dataframe tbody tr th:only-of-type {\n",
       "        vertical-align: middle;\n",
       "    }\n",
       "\n",
       "    .dataframe tbody tr th {\n",
       "        vertical-align: top;\n",
       "    }\n",
       "\n",
       "    .dataframe thead th {\n",
       "        text-align: right;\n",
       "    }\n",
       "</style>\n",
       "<table border=\"1\" class=\"dataframe\">\n",
       "  <thead>\n",
       "    <tr style=\"text-align: right;\">\n",
       "      <th></th>\n",
       "      <th>timestamp</th>\n",
       "      <th>solving_id</th>\n",
       "      <th>question_id</th>\n",
       "      <th>user_answer</th>\n",
       "      <th>elapsed_time</th>\n",
       "      <th>user_id</th>\n",
       "      <th>bundle_id</th>\n",
       "      <th>explanation_id</th>\n",
       "      <th>correct_answer</th>\n",
       "      <th>part</th>\n",
       "      <th>tags</th>\n",
       "      <th>deployed_at</th>\n",
       "    </tr>\n",
       "  </thead>\n",
       "  <tbody>\n",
       "    <tr>\n",
       "      <th>0</th>\n",
       "      <td>1565096401774</td>\n",
       "      <td>5</td>\n",
       "      <td>q6528</td>\n",
       "      <td>b</td>\n",
       "      <td>59000</td>\n",
       "      <td>u1</td>\n",
       "      <td>b5060</td>\n",
       "      <td>e5060</td>\n",
       "      <td>d</td>\n",
       "      <td>5</td>\n",
       "      <td>90</td>\n",
       "      <td>1571281395009</td>\n",
       "    </tr>\n",
       "    <tr>\n",
       "      <th>1</th>\n",
       "      <td>1567979068913</td>\n",
       "      <td>275</td>\n",
       "      <td>q6528</td>\n",
       "      <td>c</td>\n",
       "      <td>77000</td>\n",
       "      <td>u1</td>\n",
       "      <td>b5060</td>\n",
       "      <td>e5060</td>\n",
       "      <td>d</td>\n",
       "      <td>5</td>\n",
       "      <td>90</td>\n",
       "      <td>1571281395009</td>\n",
       "    </tr>\n",
       "  </tbody>\n",
       "</table>\n",
       "</div>"
      ],
      "text/plain": [
       "       timestamp  solving_id question_id user_answer  elapsed_time user_id  \\\n",
       "0  1565096401774           5       q6528           b         59000      u1   \n",
       "1  1567979068913         275       q6528           c         77000      u1   \n",
       "\n",
       "  bundle_id explanation_id correct_answer  part tags    deployed_at  \n",
       "0     b5060          e5060              d     5   90  1571281395009  \n",
       "1     b5060          e5060              d     5   90  1571281395009  "
      ]
     },
     "execution_count": 4,
     "metadata": {},
     "output_type": "execute_result"
    }
   ],
   "source": [
    "def preprocess(dataset_file_name):\n",
    "    cache_file = os.path.join(EDNET_KT1_DIR, dataset_file_name)\n",
    "    if os.path.isfile(cache_file):\n",
    "        return pd.read_csv(cache_file)\n",
    "    \n",
    "    responses = pd.read_csv(os.path.join(EDNET_KT1_DIR, f'unprocessed/{dataset_name}'))\n",
    "    responses = responses[['timestamp', 'solving_id', 'question_id', 'user_answer', 'elapsed_time', 'user_id']]\n",
    "    \n",
    "    questions = pd.read_csv(os.path.join(EDNET_KT1_DIR, 'contents/questions.csv'))\n",
    "    \n",
    "    joined = pd.merge(responses, questions, how='inner', on=['question_id'])\n",
    "    assert joined.shape[0] == responses.shape[0]\n",
    "    \n",
    "    joined.to_csv(cache_file, index=False)\n",
    "    \n",
    "    return joined\n",
    "\n",
    "dataset_name = 'kt1_top_300_questions.csv'\n",
    "raw_data = preprocess(dataset_name)\n",
    "raw_data.head(2)"
   ]
  },
  {
   "cell_type": "code",
   "execution_count": 5,
   "id": "5e8f012f-d459-41c1-ae9e-bcf3ad545c05",
   "metadata": {},
   "outputs": [
    {
     "name": "stderr",
     "output_type": "stream",
     "text": [
      "/home/lenar/miniconda3/envs/cs5228/lib/python3.7/site-packages/IPython/core/interactiveshell.py:3552: DtypeWarning: Columns (10) have mixed types.Specify dtype option on import or set low_memory=False.\n",
      "  exec(code_obj, self.user_global_ns, self.user_ns)\n"
     ]
    },
    {
     "data": {
      "text/html": [
       "<div>\n",
       "<style scoped>\n",
       "    .dataframe tbody tr th:only-of-type {\n",
       "        vertical-align: middle;\n",
       "    }\n",
       "\n",
       "    .dataframe tbody tr th {\n",
       "        vertical-align: top;\n",
       "    }\n",
       "\n",
       "    .dataframe thead th {\n",
       "        text-align: right;\n",
       "    }\n",
       "</style>\n",
       "<table border=\"1\" class=\"dataframe\">\n",
       "  <thead>\n",
       "    <tr style=\"text-align: right;\">\n",
       "      <th></th>\n",
       "      <th>timestamp</th>\n",
       "      <th>solving_id</th>\n",
       "      <th>question_id</th>\n",
       "      <th>user_answer</th>\n",
       "      <th>elapsed_time</th>\n",
       "      <th>user_id</th>\n",
       "      <th>bundle_id</th>\n",
       "      <th>explanation_id</th>\n",
       "      <th>correct_answer</th>\n",
       "      <th>part</th>\n",
       "      <th>tags</th>\n",
       "      <th>deployed_at</th>\n",
       "    </tr>\n",
       "  </thead>\n",
       "  <tbody>\n",
       "    <tr>\n",
       "      <th>0</th>\n",
       "      <td>1565096401774</td>\n",
       "      <td>5</td>\n",
       "      <td>q6528</td>\n",
       "      <td>b</td>\n",
       "      <td>59000</td>\n",
       "      <td>u1</td>\n",
       "      <td>b5060</td>\n",
       "      <td>e5060</td>\n",
       "      <td>d</td>\n",
       "      <td>5</td>\n",
       "      <td>90</td>\n",
       "      <td>1571281395009</td>\n",
       "    </tr>\n",
       "    <tr>\n",
       "      <th>1</th>\n",
       "      <td>1567979068913</td>\n",
       "      <td>275</td>\n",
       "      <td>q6528</td>\n",
       "      <td>c</td>\n",
       "      <td>77000</td>\n",
       "      <td>u1</td>\n",
       "      <td>b5060</td>\n",
       "      <td>e5060</td>\n",
       "      <td>d</td>\n",
       "      <td>5</td>\n",
       "      <td>90</td>\n",
       "      <td>1571281395009</td>\n",
       "    </tr>\n",
       "    <tr>\n",
       "      <th>2</th>\n",
       "      <td>1549164264780</td>\n",
       "      <td>6</td>\n",
       "      <td>q6528</td>\n",
       "      <td>a</td>\n",
       "      <td>40000</td>\n",
       "      <td>u1000</td>\n",
       "      <td>b5060</td>\n",
       "      <td>e5060</td>\n",
       "      <td>d</td>\n",
       "      <td>5</td>\n",
       "      <td>90</td>\n",
       "      <td>1571281395009</td>\n",
       "    </tr>\n",
       "    <tr>\n",
       "      <th>3</th>\n",
       "      <td>1518595345360</td>\n",
       "      <td>1614</td>\n",
       "      <td>q6528</td>\n",
       "      <td>d</td>\n",
       "      <td>42000</td>\n",
       "      <td>u100005</td>\n",
       "      <td>b5060</td>\n",
       "      <td>e5060</td>\n",
       "      <td>d</td>\n",
       "      <td>5</td>\n",
       "      <td>90</td>\n",
       "      <td>1571281395009</td>\n",
       "    </tr>\n",
       "    <tr>\n",
       "      <th>4</th>\n",
       "      <td>1567236293454</td>\n",
       "      <td>251</td>\n",
       "      <td>q6528</td>\n",
       "      <td>b</td>\n",
       "      <td>13000</td>\n",
       "      <td>u10001</td>\n",
       "      <td>b5060</td>\n",
       "      <td>e5060</td>\n",
       "      <td>d</td>\n",
       "      <td>5</td>\n",
       "      <td>90</td>\n",
       "      <td>1571281395009</td>\n",
       "    </tr>\n",
       "    <tr>\n",
       "      <th>...</th>\n",
       "      <td>...</td>\n",
       "      <td>...</td>\n",
       "      <td>...</td>\n",
       "      <td>...</td>\n",
       "      <td>...</td>\n",
       "      <td>...</td>\n",
       "      <td>...</td>\n",
       "      <td>...</td>\n",
       "      <td>...</td>\n",
       "      <td>...</td>\n",
       "      <td>...</td>\n",
       "      <td>...</td>\n",
       "    </tr>\n",
       "    <tr>\n",
       "      <th>17711266</th>\n",
       "      <td>1538362943067</td>\n",
       "      <td>7</td>\n",
       "      <td>q297</td>\n",
       "      <td>b</td>\n",
       "      <td>15000</td>\n",
       "      <td>u99615</td>\n",
       "      <td>b297</td>\n",
       "      <td>e297</td>\n",
       "      <td>b</td>\n",
       "      <td>2</td>\n",
       "      <td>24;40;183;184</td>\n",
       "      <td>1572412561072</td>\n",
       "    </tr>\n",
       "    <tr>\n",
       "      <th>17711267</th>\n",
       "      <td>1521105356470</td>\n",
       "      <td>1018</td>\n",
       "      <td>q297</td>\n",
       "      <td>a</td>\n",
       "      <td>15000</td>\n",
       "      <td>u99622</td>\n",
       "      <td>b297</td>\n",
       "      <td>e297</td>\n",
       "      <td>b</td>\n",
       "      <td>2</td>\n",
       "      <td>24;40;183;184</td>\n",
       "      <td>1572412561072</td>\n",
       "    </tr>\n",
       "    <tr>\n",
       "      <th>17711268</th>\n",
       "      <td>1516033596480</td>\n",
       "      <td>86</td>\n",
       "      <td>q297</td>\n",
       "      <td>b</td>\n",
       "      <td>15000</td>\n",
       "      <td>u99655</td>\n",
       "      <td>b297</td>\n",
       "      <td>e297</td>\n",
       "      <td>b</td>\n",
       "      <td>2</td>\n",
       "      <td>24;40;183;184</td>\n",
       "      <td>1572412561072</td>\n",
       "    </tr>\n",
       "    <tr>\n",
       "      <th>17711269</th>\n",
       "      <td>1542543279865</td>\n",
       "      <td>11</td>\n",
       "      <td>q297</td>\n",
       "      <td>b</td>\n",
       "      <td>18000</td>\n",
       "      <td>u9988</td>\n",
       "      <td>b297</td>\n",
       "      <td>e297</td>\n",
       "      <td>b</td>\n",
       "      <td>2</td>\n",
       "      <td>24;40;183;184</td>\n",
       "      <td>1572412561072</td>\n",
       "    </tr>\n",
       "    <tr>\n",
       "      <th>17711270</th>\n",
       "      <td>1566254827585</td>\n",
       "      <td>3</td>\n",
       "      <td>q297</td>\n",
       "      <td>b</td>\n",
       "      <td>5000</td>\n",
       "      <td>u9994</td>\n",
       "      <td>b297</td>\n",
       "      <td>e297</td>\n",
       "      <td>b</td>\n",
       "      <td>2</td>\n",
       "      <td>24;40;183;184</td>\n",
       "      <td>1572412561072</td>\n",
       "    </tr>\n",
       "  </tbody>\n",
       "</table>\n",
       "<p>17711271 rows × 12 columns</p>\n",
       "</div>"
      ],
      "text/plain": [
       "              timestamp  solving_id question_id user_answer  elapsed_time  \\\n",
       "0         1565096401774           5       q6528           b         59000   \n",
       "1         1567979068913         275       q6528           c         77000   \n",
       "2         1549164264780           6       q6528           a         40000   \n",
       "3         1518595345360        1614       q6528           d         42000   \n",
       "4         1567236293454         251       q6528           b         13000   \n",
       "...                 ...         ...         ...         ...           ...   \n",
       "17711266  1538362943067           7        q297           b         15000   \n",
       "17711267  1521105356470        1018        q297           a         15000   \n",
       "17711268  1516033596480          86        q297           b         15000   \n",
       "17711269  1542543279865          11        q297           b         18000   \n",
       "17711270  1566254827585           3        q297           b          5000   \n",
       "\n",
       "          user_id bundle_id explanation_id correct_answer  part  \\\n",
       "0              u1     b5060          e5060              d     5   \n",
       "1              u1     b5060          e5060              d     5   \n",
       "2           u1000     b5060          e5060              d     5   \n",
       "3         u100005     b5060          e5060              d     5   \n",
       "4          u10001     b5060          e5060              d     5   \n",
       "...           ...       ...            ...            ...   ...   \n",
       "17711266   u99615      b297           e297              b     2   \n",
       "17711267   u99622      b297           e297              b     2   \n",
       "17711268   u99655      b297           e297              b     2   \n",
       "17711269    u9988      b297           e297              b     2   \n",
       "17711270    u9994      b297           e297              b     2   \n",
       "\n",
       "                   tags    deployed_at  \n",
       "0                    90  1571281395009  \n",
       "1                    90  1571281395009  \n",
       "2                    90  1571281395009  \n",
       "3                    90  1571281395009  \n",
       "4                    90  1571281395009  \n",
       "...                 ...            ...  \n",
       "17711266  24;40;183;184  1572412561072  \n",
       "17711267  24;40;183;184  1572412561072  \n",
       "17711268  24;40;183;184  1572412561072  \n",
       "17711269  24;40;183;184  1572412561072  \n",
       "17711270  24;40;183;184  1572412561072  \n",
       "\n",
       "[17711271 rows x 12 columns]"
      ]
     },
     "execution_count": 5,
     "metadata": {},
     "output_type": "execute_result"
    }
   ],
   "source": [
    "raw_data = pd.read_csv(os.path.join(EDNET_KT1_DIR, dataset_name))\n",
    "raw_data"
   ]
  },
  {
   "cell_type": "code",
   "execution_count": 6,
   "id": "f27d6048-3264-4801-9c9f-7327ebf7d2a7",
   "metadata": {},
   "outputs": [
    {
     "name": "stdout",
     "output_type": "stream",
     "text": [
      "<class 'pandas.core.frame.DataFrame'>\n",
      "RangeIndex: 17711271 entries, 0 to 17711270\n",
      "Data columns (total 12 columns):\n",
      " #   Column          Dtype \n",
      "---  ------          ----- \n",
      " 0   timestamp       int64 \n",
      " 1   solving_id      int64 \n",
      " 2   question_id     object\n",
      " 3   user_answer     object\n",
      " 4   elapsed_time    int64 \n",
      " 5   user_id         object\n",
      " 6   bundle_id       object\n",
      " 7   explanation_id  object\n",
      " 8   correct_answer  object\n",
      " 9   part            int64 \n",
      " 10  tags            object\n",
      " 11  deployed_at     int64 \n",
      "dtypes: int64(5), object(7)\n",
      "memory usage: 1.6+ GB\n"
     ]
    }
   ],
   "source": [
    "raw_data.info()"
   ]
  },
  {
   "cell_type": "code",
   "execution_count": 7,
   "id": "0697865e-9963-4dc2-8e3d-9c11a1caf7c5",
   "metadata": {},
   "outputs": [
    {
     "name": "stdout",
     "output_type": "stream",
     "text": [
      "The number of unique users: 657058\n",
      "The number of unique questions: 300\n"
     ]
    }
   ],
   "source": [
    "print('The number of unique users:', len(raw_data['user_id'].unique()))\n",
    "print('The number of unique questions:', len(raw_data['question_id'].unique()))"
   ]
  },
  {
   "cell_type": "code",
   "execution_count": 8,
   "id": "0d05dc52-5a22-4f36-921e-72c2dad04948",
   "metadata": {},
   "outputs": [
    {
     "data": {
      "text/plain": [
       "array([[<AxesSubplot:title={'center':'q_count'}>,\n",
       "        <AxesSubplot:title={'center':'log_q_count'}>]], dtype=object)"
      ]
     },
     "execution_count": 8,
     "metadata": {},
     "output_type": "execute_result"
    },
    {
     "data": {
      "image/png": "[encoded data removed]",
      "text/plain": [
       "<Figure size 640x480 with 2 Axes>"
      ]
     },
     "metadata": {},
     "output_type": "display_data"
    }
   ],
   "source": [
    "q_count_by_u = raw_data.groupby(['user_id'])['question_id'].count().reset_index()\n",
    "q_count_by_u.columns = ['user_id', 'q_count']\n",
    "q_count_by_u['log_q_count'] = np.log(q_count_by_u['q_count'])\n",
    "q_count_by_u.hist(bins=30)"
   ]
  },
  {
   "cell_type": "code",
   "execution_count": 9,
   "id": "1d6ca7b3-0c99-4abf-90d4-02e99033074d",
   "metadata": {},
   "outputs": [
    {
     "data": {
      "text/plain": [
       "q_count\n",
       "3381         1\n",
       "661          1\n",
       "665          1\n",
       "668          1\n",
       "673          1\n",
       "         ...  \n",
       "4        48639\n",
       "3        55032\n",
       "30       65200\n",
       "2        92822\n",
       "1       112734\n",
       "Name: user_id, Length: 749, dtype: int64"
      ]
     },
     "execution_count": 9,
     "metadata": {},
     "output_type": "execute_result"
    }
   ],
   "source": [
    "q_count_by_u.groupby('q_count')['user_id'].count().sort_values()"
   ]
  },
  {
   "cell_type": "code",
   "execution_count": 10,
   "id": "b11d31c8-ef5d-4efc-924b-79e6eb35a98e",
   "metadata": {},
   "outputs": [
    {
     "name": "stdout",
     "output_type": "stream",
     "text": [
      "The number of unique (user_id, question_id): 15130790\n",
      "[ 2  1  3  0  4  6  5  7  9  8 10 11 15 12 21 14 13 18 17 16 19 20 23 27\n",
      " 28 22 53 29 48 51 30 62 49 54 46 38 41 39 36 31 47 24 43 52 42 26 55 44\n",
      " 34 58 57 35 50 32 25 56 67]\n",
      "Insight: Multiple responses per (user_id, question_id).\n"
     ]
    }
   ],
   "source": [
    "# Whether a user answers the same question more than 1 time?\n",
    "count_by_u_q = raw_data.groupby(['user_id', 'question_id'])['user_answer'].count().reset_index()\n",
    "count_by_u_q.columns = ['user_id', 'question_id', 'count']\n",
    "\n",
    "print('The number of unique (user_id, question_id):', count_by_u_q.shape[0])\n",
    "print(count_by_u_q['count'].unique())\n",
    "\n",
    "print('Insight: Multiple responses per (user_id, question_id).')"
   ]
  },
  {
   "cell_type": "code",
   "execution_count": 11,
   "id": "86046508-71d7-4e22-8ad1-6e7bdf0b0b59",
   "metadata": {},
   "outputs": [
    {
     "name": "stdout",
     "output_type": "stream",
     "text": [
      "Insight: The visualization shows enough responses per question to learn unobserved question variables.\n"
     ]
    },
    {
     "data": {
      "image/png": "[encoded data removed]",
      "text/plain": [
       "<Figure size 640x480 with 1 Axes>"
      ]
     },
     "metadata": {},
     "output_type": "display_data"
    }
   ],
   "source": [
    "raw_data.groupby('question_id')['user_id'].count().plot(kind='box')\n",
    "print('Insight: The visualization shows enough responses per question to learn unobserved question variables.')"
   ]
  },
  {
   "cell_type": "code",
   "execution_count": 12,
   "id": "35f9d690",
   "metadata": {},
   "outputs": [
    {
     "data": {
      "text/plain": [
       "response\n",
       "False    8523062\n",
       "True     9188209\n",
       "Name: question_id, dtype: int64"
      ]
     },
     "execution_count": 12,
     "metadata": {},
     "output_type": "execute_result"
    }
   ],
   "source": [
    "raw_data['response'] = (raw_data['user_answer'] == raw_data['correct_answer'])\n",
    "raw_data.groupby('response')['question_id'].count()"
   ]
  },
  {
   "cell_type": "markdown",
   "id": "51f7d7dc-8666-4017-94c2-a64335dc6bf1",
   "metadata": {},
   "source": [
    "# Dataset Preparation"
   ]
  },
  {
   "cell_type": "code",
   "execution_count": 13,
   "id": "0ed6bf4f-f6e8-4482-9695-3ece1b0930fc",
   "metadata": {},
   "outputs": [],
   "source": [
    "class EdnetKT1(torch.utils.data.Dataset):\n",
    "    def __init__(self, ds_file='kt1_subset.csv', train=True, binarized_response=True, swap_ability_item=False, **kwargs):\n",
    "        super().__init__()\n",
    "        \n",
    "        self.swap_ability_item = swap_ability_item\n",
    "        \n",
    "        name, _ = os.path.splitext(ds_file)\n",
    "        raw_data = pd.read_csv(os.path.join(EDNET_KT1_DIR, ds_file))\n",
    "        \n",
    "        responses = self.make_score_matrix(raw_data, name=name)\n",
    "        \n",
    "        rs = np.random.RandomState(42)\n",
    "        swapper = np.arange(responses.shape[0])\n",
    "        rs.shuffle(swapper)\n",
    "        responses = responses[swapper]\n",
    "        \n",
    "        self.binarized_response = binarized_response\n",
    "        if binarized_response:\n",
    "            responses = np.round(responses)\n",
    "            \n",
    "        num_users = responses.shape[0]\n",
    "        num_train = int(0.7 * num_users)\n",
    "        \n",
    "        if train:\n",
    "            responses = responses[:num_train]\n",
    "        else:\n",
    "            responses = responses[num_train:]\n",
    "        \n",
    "        response_mask = np.ones_like(responses)\n",
    "        response_mask[responses == MISSING_DATA] = 0\n",
    " \n",
    "        self.responses = responses\n",
    "        self.mask = response_mask\n",
    "        self.length = responses.shape[0]\n",
    "        self.num_person = responses.shape[0]\n",
    "        self.num_item = responses.shape[1]\n",
    "    \n",
    "    # From Trieu: Use Pandas vectorization to speed up the creation of the score matrix\n",
    "    def make_score_matrix(self, raw_data, name):\n",
    "        cache_file = os.path.join(EDNET_KT1_DIR, f'{name}_score_matrix_swap{self.swap_ability_item}.npy'.lower())\n",
    "        if os.path.isfile(cache_file):\n",
    "            return np.load(cache_file)\n",
    "        \n",
    "        raw_data['response'] = 0\n",
    "        raw_data.loc[raw_data['user_answer'] == raw_data['correct_answer'], 'response'] = 1\n",
    "        \n",
    "        compact_score_mat = raw_data.groupby(['user_id', 'question_id'])['response'].mean().reset_index()\n",
    "        score_mat = compact_score_mat.pivot(index='user_id', columns='question_id', values='response')\n",
    "        score_mat = score_mat.fillna(MISSING_DATA)\n",
    "        score_mat = score_mat.values\n",
    "        \n",
    "        if self.swap_ability_item:\n",
    "            score_mat = np.transpose(score_mat)\n",
    "                \n",
    "        np.save(cache_file, score_mat)\n",
    "        return score_mat\n",
    "    \n",
    "    def __len__(self):\n",
    "        return self.length\n",
    "\n",
    "    def __getitem__(self, index):\n",
    "        response = self.responses[index]\n",
    "        item_id = np.arange(self.num_item)\n",
    "        item_id[response == MISSING_DATA] = MISSING_DATA\n",
    "        mask = self.mask[index]\n",
    "\n",
    "        response = torch.from_numpy(response).float().unsqueeze(1)\n",
    "        item_id = torch.from_numpy(item_id).long().unsqueeze(1)\n",
    "        mask = torch.from_numpy(mask).bool().unsqueeze(1)\n",
    "\n",
    "        return index, response, item_id, mask"
   ]
  },
  {
   "cell_type": "code",
   "execution_count": 14,
   "id": "3ef845d0-bc0b-49fd-9cb6-c02115b6cdc9",
   "metadata": {},
   "outputs": [],
   "source": [
    "import copy\n",
    "\n",
    "def artificially_mask_dataset(old_dataset, perc):\n",
    "    dataset = copy.deepcopy(old_dataset)\n",
    "    assert perc >= 0 and perc <= 1\n",
    "    response = dataset.responses\n",
    "    mask = dataset.mask\n",
    "\n",
    "    if np.ndim(mask) == 2:\n",
    "        row, col = np.where(mask != 0)\n",
    "    elif np.ndim(mask) == 3:\n",
    "        row, col = np.where(mask[:, :, 0] != 0)\n",
    "    pool = np.array(list(zip(row, col)))\n",
    "    num_all = pool.shape[0]\n",
    "    num = int(perc * num_all)\n",
    "    \n",
    "    rs = np.random.RandomState(42)\n",
    "    indices = np.sort(\n",
    "        rs.choice(np.arange(num_all), size=num, replace=False),\n",
    "    )\n",
    "    label_indices = pool[indices]\n",
    "    labels = []\n",
    "    for idx in label_indices:\n",
    "        label = copy.deepcopy(response[idx[0], idx[1]])\n",
    "        labels.append(label)\n",
    "        mask[idx[0], idx[1]] = 0\n",
    "        response[idx[0], idx[1]] = -1\n",
    "    labels = np.array(labels)\n",
    "\n",
    "    dataset.response = response\n",
    "    dataset.mask = mask\n",
    "    dataset.missing_labels = labels\n",
    "    dataset.missing_indices = label_indices\n",
    "\n",
    "    return dataset"
   ]
  },
  {
   "cell_type": "markdown",
   "id": "58381a88-2576-42d3-aefa-2636ca683f43",
   "metadata": {},
   "source": [
    "# Implementation"
   ]
  },
  {
   "cell_type": "markdown",
   "id": "9d20f0d1-9d80-4b06-9286-bc158b174b9b",
   "metadata": {},
   "source": [
    "## Configurations"
   ]
  },
  {
   "cell_type": "code",
   "execution_count": 15,
   "id": "36b54df6-f921-44a2-ad8b-27c7ad470d52",
   "metadata": {},
   "outputs": [],
   "source": [
    "irt_model = '1pl'           # Available values: '1pl', '2pl' and '3pl'\n",
    "dataset = 'ednet-kt1'\n",
    "ability_dim = 16\n",
    "# From Trieu: Optional suggestion\n",
    "# You can use deep-learning network to implement the decoding phase.\n",
    "generative_model = 'irt'    # Available values: 'irt', 'link', 'deep', 'residual'\n",
    "\n",
    "artificial_missing_perc = 0.3\n",
    "\n",
    "num_person = len(raw_data['user_id'].unique()) * 0.7\n",
    "num_item = len(raw_data['question_id'].unique())\n",
    "\n",
    "lr = 5e-3\n",
    "batch_size = 32\n",
    "epochs = 5\n",
    "max_iters = -1\n",
    "num_workers = 0\n",
    "\n",
    "cuda = True\n",
    "gpu_device = 0\n",
    "\n",
    "seed = 1221\n",
    "torch.manual_seed(seed)\n",
    "np.random.seed(seed)"
   ]
  },
  {
   "cell_type": "markdown",
   "id": "b8ba11d3-96dd-4744-b4d2-fa910b6f32a5",
   "metadata": {},
   "source": [
    "## Model"
   ]
  },
  {
   "cell_type": "code",
   "execution_count": 16,
   "id": "8328b946-651b-4bd2-9cf9-1ef4b5e62f5d",
   "metadata": {},
   "outputs": [],
   "source": [
    "def irt_model_1pl(ability, item_feat, return_logit = False):\n",
    "    difficulty = item_feat\n",
    "    logit = (torch.sum(ability, dim=1, keepdim=True) + difficulty.T).unsqueeze(2)\n",
    "\n",
    "    if return_logit:\n",
    "        return logit\n",
    "    else:\n",
    "        response_mu = torch.sigmoid(logit)\n",
    "        return response_mu\n",
    "\n",
    "\n",
    "def irt_model_2pl(ability, item_feat, return_logit = False):\n",
    "    ability_dim = ability.size(1)\n",
    "    discrimination = item_feat[:, :ability_dim]\n",
    "    difficulty = item_feat[:, ability_dim:]\n",
    "    logit = (torch.mm(ability, -discrimination.T) + difficulty.T).unsqueeze(2)\n",
    "    \n",
    "    if return_logit:\n",
    "        return logit\n",
    "    else:\n",
    "        response_mu = torch.sigmoid(logit)\n",
    "        return response_mu\n",
    "\n",
    "\n",
    "def irt_model_3pl(ability, item_feat, return_logit = False):\n",
    "    ability_dim = ability.size(1)\n",
    "    discrimination = item_feat[:, :ability_dim]\n",
    "    difficulty = item_feat[:, ability_dim:ability_dim+1]\n",
    "    guess_logit = item_feat[:, ability_dim+1:ability_dim+2]\n",
    "    guess = torch.sigmoid(guess_logit)\n",
    "    logit = (torch.mm(ability, -discrimination.T) + difficulty.T).unsqueeze(2)\n",
    "    \n",
    "    if return_logit:\n",
    "        return logit, guess\n",
    "    else:\n",
    "        guess = guess.unsqueeze(0)  \n",
    "        response_mu = guess + (1. - guess) * torch.sigmoid(logit)\n",
    "        return response_mu "
   ]
  },
  {
   "cell_type": "code",
   "execution_count": 17,
   "id": "547c4458",
   "metadata": {},
   "outputs": [],
   "source": [
    "# MLE Classes\n",
    "\n",
    "from torch.distributions.normal import Normal\n",
    "\n",
    "class MLE_1PL(nn.Module):\n",
    "    \n",
    "    def __init__(\n",
    "            self,\n",
    "            latent_dim,\n",
    "            num_person,\n",
    "            num_item,\n",
    "        ):\n",
    "        super().__init__()\n",
    "\n",
    "        self.latent_dim            = latent_dim\n",
    "        self.ability_dim           = latent_dim\n",
    "        self.response_dim          = 1\n",
    "        self.num_person            = num_person\n",
    "        self.num_item              = num_item\n",
    "\n",
    "        self._set_item_feat_dim()\n",
    "\n",
    "        self.ability = nn.Embedding(self.num_person, self.ability_dim)        \n",
    "        self.item_feat = nn.Embedding(self.num_item, self.item_feat_dim)\n",
    "\n",
    "        self.apply(self.weights_init)\n",
    "        # From Trieu: Since weights_init initializes weights,\n",
    "        # we should init ability and item_feat after it.\n",
    "        self.ability.weight.data.normal_(0, 1)\n",
    "        self.item_feat.weight.data.normal_(0, 1)\n",
    "\n",
    "    def _set_item_feat_dim(self):\n",
    "        self.item_feat_dim = 1\n",
    "\n",
    "    def encode(self, index, response, mask):\n",
    "        ability = self.ability(index)\n",
    "        item_domain = torch.arange(self.num_item).unsqueeze(1).to(response.device)\n",
    "        item_feat = self.item_feat(item_domain).squeeze(1)\n",
    "        return ability, item_feat\n",
    "\n",
    "    def decode(self, ability, item_feat):\n",
    "        return irt_model_1pl(ability, item_feat)\n",
    "\n",
    "    def forward(self, index, response, mask):\n",
    "        ability, item_feat = self.encode(index, response, mask)\n",
    "        response_mu = self.decode(ability, item_feat)\n",
    "        return response_mu\n",
    "\n",
    "    def log_likelihood(self, response_mu, response, mask):\n",
    "        # From Trieu: We want to punish response, which is far away from the estimated response_mu\n",
    "        #        so it is better to have smaller std = 0.1 instead of 1. This can be a hyperparameter to be tuned.\n",
    "        #        We need to consider mask before calling sum\n",
    "        #        because we do not want missing_responses contribute in the gradient computation graph.\n",
    "        #        Otherwise, the model will learn to predict -1. Because -1 (missing) occupies significantly\n",
    "        #        the response matrix, the model will have much higher tendency to predict 0 compared to 1.\n",
    "        # return Normal(response_mu, 1).log_prob(response.squeeze(1)).sum()\n",
    "        \n",
    "        dist = torch.distributions.normal.Normal(response_mu, 0.1)\n",
    "        log_prob = dist.log_prob(response)\n",
    "        return log_prob * mask.float()\n",
    "\n",
    "    def loss_fn(self, response_mu, response, mask):\n",
    "        # From Trieu: response contains a batch of users, assuming that all users are independent of each other,\n",
    "        #        it should be sum instead of mean.\n",
    "        log_likelihood = self.log_likelihood(response_mu, response, mask).sum()\n",
    "        log_posterior = log_likelihood\n",
    "        return -log_posterior\n",
    "    \n",
    "    @staticmethod\n",
    "    def weights_init(m):\n",
    "        if isinstance(m, (nn.Linear, nn.Conv2d)):\n",
    "            init.xavier_normal_(m.weight.data, gain=init.calculate_gain('relu'))\n",
    "            init.constant_(m.bias.data, 0)\n",
    "        elif isinstance(m, nn.BatchNorm1d):\n",
    "            pass\n",
    "\n",
    "\n",
    "class MLE_2PL(MLE_1PL):\n",
    "\n",
    "    def _set_item_feat_dim(self):\n",
    "        self.item_feat_dim = self.latent_dim + 1\n",
    "\n",
    "    def decode(self, ability, item_feat):\n",
    "        return irt_model_2pl(ability, item_feat)\n",
    "\n",
    "\n",
    "class MLE_3PL(MLE_2PL):\n",
    "    \n",
    "    def _set_item_feat_dim(self):\n",
    "        self.item_feat_dim = self.latent_dim + 2\n",
    "\n",
    "    def decode(self, ability, item_feat):\n",
    "        return irt_model_3pl(ability, item_feat)"
   ]
  },
  {
   "cell_type": "code",
   "execution_count": 18,
   "id": "66f84134-4735-495e-a848-60fefc117ee3",
   "metadata": {},
   "outputs": [
    {
     "name": "stderr",
     "output_type": "stream",
     "text": [
      "/home/lenar/miniconda3/envs/cs5228/lib/python3.7/site-packages/ipykernel_launcher.py:19: DtypeWarning: Columns (10) have mixed types.Specify dtype option on import or set low_memory=False.\n",
      "/home/lenar/miniconda3/envs/cs5228/lib/python3.7/site-packages/ipykernel_launcher.py:20: DtypeWarning: Columns (10) have mixed types.Specify dtype option on import or set low_memory=False.\n"
     ]
    }
   ],
   "source": [
    "out_file = 'MLE_{}_{}_{}person_{}item_{}maskperc_{}ability_seed{}'.format(\n",
    "        irt_model, \n",
    "        dataset,\n",
    "        num_person, \n",
    "        num_item,\n",
    "        artificial_missing_perc,\n",
    "        ability_dim, \n",
    "        seed,\n",
    "    )\n",
    "\n",
    "out_dir = os.path.join(OUT_DIR, out_file) \n",
    "    \n",
    "if not os.path.isdir(out_dir):\n",
    "    os.makedirs(out_dir)\n",
    "\n",
    "device = torch.device(\"cuda\" if cuda else \"cpu\")\n",
    "if cuda: torch.cuda.set_device(gpu_device)\n",
    "\n",
    "train_dataset = EdnetKT1(train=True, binarized_response=True, ds_file=dataset_name)\n",
    "test_dataset  = EdnetKT1(train=False, binarized_response=True, ds_file=dataset_name)\n",
    "\n",
    "if artificial_missing_perc > 0:\n",
    "    train_dataset = artificially_mask_dataset(train_dataset, artificial_missing_perc)\n",
    "\n",
    "num_person = train_dataset.num_person\n",
    "num_item   = train_dataset.num_item\n",
    "\n",
    "train_loader = torch.utils.data.DataLoader(\n",
    "    train_dataset, \n",
    "    batch_size = batch_size, \n",
    "    shuffle = True,\n",
    "    num_workers = num_workers,\n",
    ")\n",
    "test_loader = torch.utils.data.DataLoader(\n",
    "    test_dataset, \n",
    "    batch_size = batch_size, \n",
    "    shuffle = False,\n",
    "    num_workers = num_workers,\n",
    ")\n",
    "\n",
    "N_mini_batches = len(train_loader)\n",
    "if max_iters != -1:\n",
    "    epochs = int(math.ceil(max_iters / float(len(train_loader))))\n",
    "    print(f'Found MAX_ITERS={max_iters}, setting EPOCHS={epochs}') \n",
    "\n",
    "if irt_model == '1pl':\n",
    "    model_class = MLE_1PL\n",
    "elif irt_model == '2pl':\n",
    "    model_class = MLE_2PL\n",
    "elif irt_model == '3pl':\n",
    "    model_class = MLE_3PL\n",
    "else:\n",
    "    raise Exception(f'model {irt_model} not recognized')\n",
    "\n",
    "model = model_class(\n",
    "    ability_dim,\n",
    "    num_person,\n",
    "    num_item,\n",
    ").to(device)"
   ]
  },
  {
   "cell_type": "markdown",
   "id": "1ae97901-1d50-4201-aa90-20b5ca6b661b",
   "metadata": {},
   "source": [
    "## Train"
   ]
  },
  {
   "cell_type": "code",
   "execution_count": 19,
   "id": "7ce12de9-c0ac-4722-af88-dbf66d10dbe3",
   "metadata": {},
   "outputs": [],
   "source": [
    "class AverageMeter(object):\n",
    "    \"\"\"Computes and stores the average and current value\"\"\"\n",
    "    def __init__(self):\n",
    "        self.reset()\n",
    "\n",
    "    def reset(self):\n",
    "        self.val = 0\n",
    "        self.avg = 0\n",
    "        self.sum = 0\n",
    "        self.count = 0\n",
    "\n",
    "    def update(self, val, n=1):\n",
    "        self.val = val\n",
    "        self.sum += val * n\n",
    "        self.count += n\n",
    "        self.avg = self.sum / self.count\n",
    "\n",
    "\n",
    "def save_checkpoint(state, is_best, folder='./', filename='checkpoint.pth.tar'):\n",
    "    if not os.path.isdir(folder):\n",
    "        os.makedirs(folder)\n",
    "    torch.save(state, os.path.join(folder, filename))\n",
    "    if is_best:\n",
    "        shutil.copyfile(os.path.join(folder, filename),\n",
    "                        os.path.join(folder, 'model_best.pth.tar'))"
   ]
  },
  {
   "cell_type": "code",
   "execution_count": 20,
   "id": "14cede0f-bef2-4cf1-a3b1-8a8e2772f347",
   "metadata": {},
   "outputs": [],
   "source": [
    "def train(epoch):\n",
    "    model.train()\n",
    "    train_loss = AverageMeter()\n",
    "    pbar = tqdm(total=len(train_loader))\n",
    "\n",
    "    for batch_idx, (index, response, _, mask) in enumerate(train_loader):\n",
    "        mb = response.size(0)\n",
    "        index = index.to(device)\n",
    "        response = response.to(device)\n",
    "        mask = mask.long().to(device)\n",
    "\n",
    "        optimizer.zero_grad()\n",
    "\n",
    "        # Forward pass\n",
    "        response_mu = model.forward(index, response, mask)\n",
    "        loss = model.loss_fn(response_mu, response, mask)\n",
    "\n",
    "        loss.backward()\n",
    "        optimizer.step()\n",
    "\n",
    "        train_loss.update(loss.item(), mb)\n",
    "\n",
    "        pbar.update()\n",
    "        pbar.set_postfix({'Loss': train_loss.avg})\n",
    "\n",
    "    pbar.close()\n",
    "    print('====> Train Epoch: {} Loss: {:.4f}'.format(epoch, train_loss.avg))\n",
    "\n",
    "    return train_loss.avg\n",
    "\n",
    "def test(epoch):\n",
    "    model.eval()\n",
    "    test_loss = AverageMeter()\n",
    "    pbar = tqdm(total=len(test_loader))\n",
    "\n",
    "    with torch.no_grad():\n",
    "        for index, response, _, mask in test_loader:       \n",
    "            index = index.to(device)\n",
    "            mb = response.size(0)\n",
    "            response = response.to(device)\n",
    "            mask = mask.long().to(device)\n",
    "            \n",
    "            mb = response.size(0)\n",
    "            response = response.to(device)\n",
    "            mask = mask.long().to(device)\n",
    "\n",
    "            optimizer.zero_grad()\n",
    "\n",
    "            # Forward pass\n",
    "            response_mu = model.forward(index, response, mask)\n",
    "            loss = model.loss_fn(response_mu, response, mask)\n",
    "            \n",
    "            test_loss.update(loss.item(), mb)\n",
    "\n",
    "            pbar.update()\n",
    "            pbar.set_postfix({'Loss': test_loss.avg})\n",
    "            \n",
    "\n",
    "    pbar.close()\n",
    "    print('====> Test Epoch: {} Loss: {:.4f}'.format(epoch, test_loss.avg))\n",
    "\n",
    "    return test_loss.avg"
   ]
  },
  {
   "cell_type": "code",
   "execution_count": 21,
   "id": "a59d4c7a-4146-46d6-87b8-8a6d2c3da3f3",
   "metadata": {},
   "outputs": [
    {
     "name": "stderr",
     "output_type": "stream",
     "text": [
      "100%|███████████████████████████████████████████████| 14374/14374 [01:55<00:00, 124.26it/s, Loss=7.96e+3]\n"
     ]
    },
    {
     "name": "stdout",
     "output_type": "stream",
     "text": [
      "====> Train Epoch: 0 Loss: 7956.6252\n"
     ]
    },
    {
     "name": "stderr",
     "output_type": "stream",
     "text": [
      "100%|███████████████████████████████████████████████| 14374/14374 [01:53<00:00, 126.21it/s, Loss=6.66e+3]\n"
     ]
    },
    {
     "name": "stdout",
     "output_type": "stream",
     "text": [
      "====> Train Epoch: 1 Loss: 6659.5326\n"
     ]
    },
    {
     "name": "stderr",
     "output_type": "stream",
     "text": [
      "100%|███████████████████████████████████████████████| 14374/14374 [01:57<00:00, 122.39it/s, Loss=5.86e+3]\n"
     ]
    },
    {
     "name": "stdout",
     "output_type": "stream",
     "text": [
      "====> Train Epoch: 2 Loss: 5857.2496\n"
     ]
    },
    {
     "name": "stderr",
     "output_type": "stream",
     "text": [
      "100%|███████████████████████████████████████████████| 14374/14374 [01:57<00:00, 121.94it/s, Loss=5.46e+3]\n"
     ]
    },
    {
     "name": "stdout",
     "output_type": "stream",
     "text": [
      "====> Train Epoch: 3 Loss: 5456.2782\n"
     ]
    },
    {
     "name": "stderr",
     "output_type": "stream",
     "text": [
      "100%|███████████████████████████████████████████████| 14374/14374 [01:58<00:00, 121.62it/s, Loss=5.35e+3]\n"
     ]
    },
    {
     "name": "stdout",
     "output_type": "stream",
     "text": [
      "====> Train Epoch: 4 Loss: 5353.3814\n",
      "Train time: 583.0947778224945\n"
     ]
    }
   ],
   "source": [
    "optimizer = optim.Adam(model.parameters(), lr=lr)\n",
    "\n",
    "is_best, best_loss = False, np.inf\n",
    "train_losses = np.zeros(epochs)\n",
    "test_losses  = np.zeros(epochs)\n",
    "train_times = np.zeros(epochs)\n",
    "\n",
    "for epoch in range(epochs):\n",
    "    start_time = time.time()\n",
    "    train_loss = train(epoch)\n",
    "    end_time = time.time()\n",
    "    train_losses[epoch] = train_loss\n",
    "    train_times[epoch] = start_time - end_time\n",
    "\n",
    "    is_best = train_loss < best_loss\n",
    "    best_loss = min(train_loss, best_loss)\n",
    "    \n",
    "    save_checkpoint({\n",
    "        'model_state_dict': model.state_dict(),\n",
    "        'epoch': epoch,\n",
    "    }, is_best, folder=out_dir)\n",
    "\n",
    "    np.save(os.path.join(out_dir, 'train_losses.npy'), train_losses)\n",
    "    np.save(os.path.join(out_dir, 'train_times.npy'), train_times)\n",
    "    np.save(os.path.join(out_dir, 'test_losses.npy'), test_losses)\n",
    "        \n",
    "print(f'Train time: {np.abs(train_times).sum()}')"
   ]
  },
  {
   "cell_type": "markdown",
   "id": "d8fbc0fb-407c-4826-8260-29da4ba3f785",
   "metadata": {},
   "source": [
    "## Inference"
   ]
  },
  {
   "cell_type": "code",
   "execution_count": 22,
   "id": "4ad348bd",
   "metadata": {},
   "outputs": [],
   "source": [
    "import numpy as np"
   ]
  },
  {
   "cell_type": "code",
   "execution_count": 23,
   "id": "59253f65-22bb-4d2e-96f0-3d40b08d8317",
   "metadata": {},
   "outputs": [],
   "source": [
    "def get_infer_dict(loader):\n",
    "    model.eval()\n",
    "    infer_dict = {}\n",
    "\n",
    "    with torch.no_grad(): \n",
    "        \n",
    "        abilities, item_feats, response_sample_set = [], [], []\n",
    "\n",
    "        pbar = tqdm(total=len(loader))\n",
    "        for index, response, _, mask in loader:\n",
    "            mb = response.size(0)\n",
    "            index = index.to(device)\n",
    "            response = response.to(device)\n",
    "            mask = mask.long().to(device)\n",
    "\n",
    "            ability, item_feat = model.encode(index, response, mask)\n",
    "            abilities.append(ability.cpu())\n",
    "            item_feats.append(item_feat.cpu())\n",
    "            \n",
    "            response_sample_set.append(model.decode(ability, item_feat).cpu())\n",
    "\n",
    "            pbar.update()\n",
    "            \n",
    "        abilities = torch.cat(abilities, dim=0)\n",
    "        response_sample_set = torch.cat(response_sample_set, dim=0)\n",
    "        \n",
    "        pbar.close()\n",
    "\n",
    "    end_time = time.time()\n",
    "\n",
    "    return {'response': response_sample_set, 'infer_time': end_time - start_time, 'ability': abilities, 'item_feat': item_feats}"
   ]
  },
  {
   "cell_type": "code",
   "execution_count": 24,
   "id": "13f4c344",
   "metadata": {},
   "outputs": [
    {
     "name": "stderr",
     "output_type": "stream",
     "text": [
      "100%|█████████████████████████████████████████████████████████████| 14374/14374 [00:17<00:00, 844.30it/s]\n"
     ]
    },
    {
     "name": "stdout",
     "output_type": "stream",
     "text": [
      "y_pred: (array([0., 1.]), array([1620637, 1559777]))\n",
      "y: (array([0., 1.]), array([1600342, 1580072]))\n",
      "Missing Imputation Accuracy from samples: 0.6522675978661897\n",
      "AUC: 0.70\n",
      "[[1057523  542819]\n",
      " [ 563114 1016958]]\n",
      "Infer time: 135.3630816936493\n"
     ]
    },
    {
     "data": {
      "image/png": "[encoded data removed]",
      "text/plain": [
       "<Figure size 640x480 with 2 Axes>"
      ]
     },
     "metadata": {},
     "output_type": "display_data"
    }
   ],
   "source": [
    "from sklearn.metrics import roc_auc_score\n",
    "\n",
    "# From Trieu: The ability embedded vectors are learnt for users in the train dataset.\n",
    "# Therefore, we cannot reuse these embeded vectors for users in the test dataset, because these are different users.\n",
    "# We need to use artificial missing response to measure the trained model's performance.\n",
    "\n",
    "def run_inference(train=True):\n",
    "    dataset = train_dataset if train else test_dataset\n",
    "    loader = torch.utils.data.DataLoader(\n",
    "            dataset,\n",
    "            batch_size = batch_size, \n",
    "            shuffle = False,\n",
    "        )\n",
    "\n",
    "    for checkpoint_name in [\n",
    "        # 'checkpoint.pth.tar',\n",
    "        'model_best.pth.tar'\n",
    "    ]:\n",
    "        checkpoint = torch.load(os.path.join(out_dir, checkpoint_name))\n",
    "        model.load_state_dict(checkpoint['model_state_dict'])\n",
    "\n",
    "        infer_dict = get_infer_dict(loader)\n",
    "        checkpoint['infer_dict'] = infer_dict\n",
    "\n",
    "        ability = infer_dict['ability']\n",
    "        item_feat = infer_dict['item_feat']\n",
    "\n",
    "        y_pred_prob = infer_dict['response']\n",
    "        y_pred_prob = y_pred_prob.squeeze(2).numpy()\n",
    "        y_pred = np.round(y_pred_prob)\n",
    "        \n",
    "        if artificial_missing_perc > 0:\n",
    "            missing_indices = dataset.missing_indices\n",
    "            missing_labels = dataset.missing_labels\n",
    "            \n",
    "            if np.ndim(missing_labels) == 1:\n",
    "                missing_labels = np.round(missing_labels[:, np.newaxis])\n",
    "                \n",
    "            correct, count = 0, 0\n",
    "            predicted_labels = []\n",
    "            predicted_label_probs = []\n",
    "            for missing_index, missing_label in zip(missing_indices, missing_labels):\n",
    "                predicted_label = y_pred[missing_index[0], missing_index[1]]\n",
    "                if predicted_label.item() == missing_label[0]:\n",
    "                    correct += 1\n",
    "                count += 1\n",
    "                predicted_labels.append(predicted_label.item())\n",
    "                predicted_label_probs.append(y_pred_prob[missing_index[0], missing_index[1]])\n",
    "            \n",
    "            print('y_pred:', np.unique(predicted_labels, return_counts=True))\n",
    "            print('y:', np.unique(missing_labels.flatten(), return_counts=True))\n",
    "            \n",
    "            missing_imputation_accuracy = correct / float(count)\n",
    "            checkpoint['missing_imputation_accuracy'] = missing_imputation_accuracy\n",
    "            print(f'Missing Imputation Accuracy from samples: {missing_imputation_accuracy}')\n",
    "            \n",
    "            auc = roc_auc_score(missing_labels.flatten(), predicted_label_probs)\n",
    "            print(\"AUC: {:.2f}\".format(auc))\n",
    "            \n",
    "            cm = confusion_matrix(missing_labels.flatten(), predicted_labels)\n",
    "            print(cm)\n",
    "            disp = ConfusionMatrixDisplay(confusion_matrix=cm, display_labels=[0, 1])\n",
    "            disp.plot()\n",
    "            \n",
    "            print(f'Infer time:', infer_dict['infer_time'])\n",
    "\n",
    "run_inference()"
   ]
  },
  {
   "cell_type": "code",
   "execution_count": null,
   "id": "efac0e2d-ea52-4f2d-bff9-77bf62d6245a",
   "metadata": {},
   "outputs": [],
   "source": []
  }
 ],
 "metadata": {
  "kernelspec": {
   "display_name": "Python 3 (ipykernel)",
   "language": "python",
   "name": "python3"
  },
  "language_info": {
   "codemirror_mode": {
    "name": "ipython",
    "version": 3
   },
   "file_extension": ".py",
   "mimetype": "text/x-python",
   "name": "python",
   "nbconvert_exporter": "python",
   "pygments_lexer": "ipython3",
   "version": "3.7.12"
  }
 },
 "nbformat": 4,
 "nbformat_minor": 5
}
